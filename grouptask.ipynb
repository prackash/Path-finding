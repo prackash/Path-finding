{
 "cells": [
  {
   "cell_type": "code",
   "execution_count": 1,
   "metadata": {},
   "outputs": [],
   "source": [
    "import numpy as np\n",
    "from queue import PriorityQueue"
   ]
  },
  {
   "cell_type": "code",
   "execution_count": 2,
   "metadata": {},
   "outputs": [
    {
     "name": "stdout",
     "output_type": "stream",
     "text": [
      "Eligible start point\n",
      "Eligible end point\n"
     ]
    }
   ],
   "source": [
    "maze=[[0,1,0,0,0,0],\n",
    "      [0,0,0,0,0,0],\n",
    "      [0,1,0,1,0,0],\n",
    "      [0,1,0,0,1,0],\n",
    "      [0,0,0,0,1,0]\n",
    "     ]\n",
    "start_point=[0,0]\n",
    "end_point=[4,5]\n",
    "\n",
    "if(maze[start_point[0]][start_point[1]]==0):\n",
    "    print('Eligible start point')\n",
    "\n",
    "if(maze[end_point[0]][end_point[1]]==0):\n",
    "    print('Eligible end point')"
   ]
  },
  {
   "cell_type": "code",
   "execution_count": 3,
   "metadata": {},
   "outputs": [],
   "source": [
    "def heu(current,end):\n",
    "    x1,y1=current\n",
    "    x2,y2=end\n",
    "    return abs(x1-x2)+abs(y1-y2)"
   ]
  },
  {
   "cell_type": "code",
   "execution_count": 4,
   "metadata": {},
   "outputs": [],
   "source": [
    "count=0\n",
    "open_set=PriorityQueue()\n",
    "open_set.put((0,count,start_point))\n",
    "previous={}\n",
    "\n",
    "g_score=np.matrix(np.ones((len(maze),len(maze[1]))) * np.inf)\n",
    "f_score=np.matrix(np.ones((len(maze),len(maze[1]))) * np.inf)\n",
    "\n",
    "g_score[start_point[0],start_point[1]]=0\n",
    "f_score[start_point[0],start_point[1]]=heu(start_point,end_point)"
   ]
  },
  {
   "cell_type": "code",
   "execution_count": 5,
   "metadata": {},
   "outputs": [],
   "source": [
    "open_set_list=[start_point]"
   ]
  },
  {
   "cell_type": "code",
   "execution_count": 8,
   "metadata": {},
   "outputs": [],
   "source": [
    "while not open_set.empty():\n",
    "    current = open_set.get()[2]\n",
    "    open_set_list.remove(current)\n",
    "    if current == end_point:\n",
    "        break\n",
    "    \n",
    "    x,y=current\n",
    "    neighbors=[]\n",
    "    if x-1>=0:\n",
    "        if(maze[x-1][y]==0):\n",
    "            neighbors.append([x-1,y])\n",
    "    if y-1>=0:\n",
    "        if(maze[x][y-1]==0):\n",
    "            neighbors.append([x,y-1])\n",
    "    if x+1<len(maze):\n",
    "        if(maze[x+1][y]==0):\n",
    "            neighbors.append([x+1,y])\n",
    "    if y+1<len(maze[1]):\n",
    "        if(maze[x][y+1]==0):\n",
    "            neighbors.append([x,y+1])\n",
    "    \n",
    "    for neighbor in neighbors:\n",
    "        temp_g=g_score[current[0],current[1]]+1\n",
    "        if temp_g<g_score[neighbor[0],neighbor[1]]:\n",
    "            previous[str([neighbor[0],neighbor[1]])]=str([current[0],current[1]])\n",
    "            g_score[neighbor[0],neighbor[1]]=temp_g\n",
    "            f_score[neighbor[0],neighbor[1]]=temp_g + heu([neighbor[0],neighbor[1]],end_point)\n",
    "            if neighbor not in open_set_list:\n",
    "                count+=1\n",
    "                open_set.put((f_score[neighbor[0],neighbor[1]],count,neighbor))\n",
    "                open_set_list.append(neighbor)"
   ]
  },
  {
   "cell_type": "code",
   "execution_count": 9,
   "metadata": {},
   "outputs": [],
   "source": [
    "def path_function(start_point,end_point,ref_matrix):\n",
    "    path=[]\n",
    "\n",
    "    i,j=end_point\n",
    "    cccost=ref_matrix[i,j]\n",
    "    path.append([i,j])\n",
    "\n",
    "    while cccost>0:\n",
    "        if i > 0 and ref_matrix[i-1,j]==cccost-1:\n",
    "            i,j=i-1,j\n",
    "            path.append([i,j])\n",
    "            cccost-=1\n",
    "        elif j>0 and ref_matrix[i,j-1]==cccost-1:\n",
    "            i,j=i,j-1\n",
    "            path.append([i,j])\n",
    "            cccost-=1\n",
    "        elif i<len(ref_matrix)-1 and ref_matrix[i+1,j]==cccost-1:\n",
    "            i,j=i+1,j\n",
    "            path.append([i,j])\n",
    "            cccost-=1\n",
    "        elif j<len(ref_matrix[i])-1 and ref_matrix[i,j+1]==cccost-1:\n",
    "            i,j=i,j+1\n",
    "            path.append([i,j])\n",
    "            cccost-=1\n",
    "    return path"
   ]
  },
  {
   "cell_type": "code",
   "execution_count": 11,
   "metadata": {},
   "outputs": [],
   "source": [
    "path=path_function(start_point,end_point,g_score)"
   ]
  },
  {
   "cell_type": "code",
   "execution_count": 13,
   "metadata": {},
   "outputs": [
    {
     "name": "stdout",
     "output_type": "stream",
     "text": [
      "--------- iteration : 1  ---------\n",
      "['#', 1, 0, 0, 0, 0]\n",
      "['#', 0, 0, 0, 0, 0]\n",
      "[0, 1, 0, 1, 0, 0]\n",
      "[0, 1, 0, 0, 1, 0]\n",
      "[0, 0, 0, 0, 1, 0]\n",
      "--------- iteration : 2  ---------\n",
      "['#', 1, 0, 0, 0, 0]\n",
      "['#', '#', 0, 0, 0, 0]\n",
      "[0, 1, 0, 1, 0, 0]\n",
      "[0, 1, 0, 0, 1, 0]\n",
      "[0, 0, 0, 0, 1, 0]\n",
      "--------- iteration : 3  ---------\n",
      "['#', 1, 0, 0, 0, 0]\n",
      "['#', '#', '#', 0, 0, 0]\n",
      "[0, 1, 0, 1, 0, 0]\n",
      "[0, 1, 0, 0, 1, 0]\n",
      "[0, 0, 0, 0, 1, 0]\n",
      "--------- iteration : 4  ---------\n",
      "['#', 1, 0, 0, 0, 0]\n",
      "['#', '#', '#', '#', 0, 0]\n",
      "[0, 1, 0, 1, 0, 0]\n",
      "[0, 1, 0, 0, 1, 0]\n",
      "[0, 0, 0, 0, 1, 0]\n",
      "--------- iteration : 5  ---------\n",
      "['#', 1, 0, 0, 0, 0]\n",
      "['#', '#', '#', '#', '#', 0]\n",
      "[0, 1, 0, 1, 0, 0]\n",
      "[0, 1, 0, 0, 1, 0]\n",
      "[0, 0, 0, 0, 1, 0]\n",
      "--------- iteration : 6  ---------\n",
      "['#', 1, 0, 0, 0, 0]\n",
      "['#', '#', '#', '#', '#', '#']\n",
      "[0, 1, 0, 1, 0, 0]\n",
      "[0, 1, 0, 0, 1, 0]\n",
      "[0, 0, 0, 0, 1, 0]\n",
      "--------- iteration : 7  ---------\n",
      "['#', 1, 0, 0, 0, 0]\n",
      "['#', '#', '#', '#', '#', '#']\n",
      "[0, 1, 0, 1, 0, '#']\n",
      "[0, 1, 0, 0, 1, 0]\n",
      "[0, 0, 0, 0, 1, 0]\n",
      "--------- iteration : 8  ---------\n",
      "['#', 1, 0, 0, 0, 0]\n",
      "['#', '#', '#', '#', '#', '#']\n",
      "[0, 1, 0, 1, 0, '#']\n",
      "[0, 1, 0, 0, 1, '#']\n",
      "[0, 0, 0, 0, 1, 0]\n",
      "--------- iteration : 9  ---------\n",
      "['#', 1, 0, 0, 0, 0]\n",
      "['#', '#', '#', '#', '#', '#']\n",
      "[0, 1, 0, 1, 0, '#']\n",
      "[0, 1, 0, 0, 1, '#']\n",
      "[0, 0, 0, 0, 1, '#']\n"
     ]
    }
   ],
   "source": [
    "\n",
    "import time\n",
    "i,j=path[-1]\n",
    "maze[i][j]='#'\n",
    "counter=-1\n",
    "while [i,j]!= path[0] :\n",
    "    counter-=1\n",
    "    i,j=path[counter]\n",
    "    maze[i][j]='#'\n",
    "\n",
    "    print('--------- iteration :' ,abs(counter+1) ,' ---------')\n",
    "\n",
    "    for x in maze:\n",
    "        print(x,end='\\n')\n",
    "    time.sleep(2)"
   ]
  }
 ],
 "metadata": {
  "kernelspec": {
   "display_name": "base",
   "language": "python",
   "name": "python3"
  },
  "language_info": {
   "codemirror_mode": {
    "name": "ipython",
    "version": 3
   },
   "file_extension": ".py",
   "mimetype": "text/x-python",
   "name": "python",
   "nbconvert_exporter": "python",
   "pygments_lexer": "ipython3",
   "version": "3.9.12"
  },
  "orig_nbformat": 4,
  "vscode": {
   "interpreter": {
    "hash": "c621707852c7bb2f47ddfbb11ea61ea996c65ba64fa276325653eb4254fbd727"
   }
  }
 },
 "nbformat": 4,
 "nbformat_minor": 2
}
